{
 "cells": [
  {
   "cell_type": "code",
   "execution_count": 4,
   "metadata": {},
   "outputs": [
    {
     "name": "stdout",
     "output_type": "stream",
     "text": [
      "Tensor(\"concat_1:0\", shape=(?, 256, 256, 3), dtype=float32)\n"
     ]
    }
   ],
   "source": [
    "import tensorflow as tf\n",
    "import numpy as np\n",
    "\n",
    "x = tf.placeholder(tf.float32,[None,256,256,3])\n",
    "x_ = tf.reduce_mean(x,axis=[1,2],keepdims=True)\n",
    "x_ = tf.keras.backend.repeat_elements(x_,x.shape[1],axis=1)\n",
    "x_ = tf.keras.backend.repeat_elements(x_,x.shape[2],axis=2)\n",
    "print(x_)"
   ]
  },
  {
   "cell_type": "code",
   "execution_count": 1,
   "metadata": {},
   "outputs": [
    {
     "name": "stdout",
     "output_type": "stream",
     "text": [
      "Tensor(\"Placeholder:0\", shape=(?, 256, 256, 3), dtype=float32) Tensor(\"Placeholder_1:0\", shape=(?, 256, 256, 3), dtype=float32)\n",
      "[<tf.Tensor 'pconv1/BiasAdd:0' shape=(?, 128, 128, 64) dtype=float32>, <tf.Tensor 'pconv1/conv2d_1/BiasAdd:0' shape=(?, 128, 128, 64) dtype=float32>]\n"
     ]
    },
    {
     "name": "stderr",
     "output_type": "stream",
     "text": [
      "Using TensorFlow backend.\n"
     ]
    }
   ],
   "source": [
    "import tensorflow as tf\n",
    "import utils\n",
    "\n",
    "def upsample(x):\n",
    "    _, nh, nw, nx = x.get_shape().as_list()\n",
    "    x = tf.image.resize_nearest_neighbor(x, [nh * 2, nw * 2])\n",
    "    return x\n",
    "\n",
    "def batch_relu(x,trainable=True):\n",
    "    x = tf.layers.batch_normalization(x,training=trainable)\n",
    "    return tf.nn.relu(x)\n",
    "def batch_leaky_relu(x,trainable=True):\n",
    "    x = tf.layers.batch_normalization(x,training=trainable)\n",
    "    return tf.nn.leaky_relu(x)\n",
    "\n",
    "def build_recovery(img,mask):\n",
    "    img_conv1,mask_conv1 = utils.p_conv2d([img,mask],64,7,2,'SAME','pconv1')#128\n",
    "    img_conv1 = batch_relu(img_conv1)\n",
    "    print(img_conv1,mask_conv1)\n",
    "    \n",
    "    img_conv2,mask_conv2 = utils.p_conv2d([img_conv1,mask_conv1],128,5,2,'SAME','pconv2')#64\n",
    "    img_conv2 = batch_relu(img_conv2)\n",
    "    print(img_conv2,mask_conv2)\n",
    "    \n",
    "    img_conv3,mask_conv3 = utils.p_conv2d([img_conv2,mask_conv2],256,5,2,'SAME','pconv3')#32\n",
    "    img_conv3 = batch_relu(img_conv3)\n",
    "    print(img_conv3,mask_conv3)\n",
    "    \n",
    "    img_conv4,mask_conv4 = utils.p_conv2d([img_conv3,mask_conv3],512,3,2,'SAME','pconv4')#16\n",
    "    img_conv4 = batch_relu(img_conv4)\n",
    "    print(img_conv4,mask_conv4)\n",
    "    \n",
    "    img_conv5,mask_conv5 = utils.p_conv2d([img_conv4,mask_conv4],512,3,2,'SAME','pconv5')#8\n",
    "    img_conv5 = batch_relu(img_conv5)\n",
    "    print(img_conv5,mask_conv5)\n",
    "    \n",
    "    img_conv6,mask_conv6 = utils.p_conv2d([img_conv5,mask_conv5],512,3,2,'SAME','pconv6')#4\n",
    "    img_conv6 = batch_relu(img_conv6)\n",
    "    print(img_conv6,mask_conv6)\n",
    "    \n",
    "    img_conv7,mask_conv7 = utils.p_conv2d([img_conv6,mask_conv6],512,3,2,'SAME','pconv7')#2\n",
    "    img_conv7 = batch_relu(img_conv7)\n",
    "    print(img_conv7,mask_conv7)\n",
    "    \n",
    "    img_size = 2\n",
    "    \n",
    "    img_up_conv1,mask_up_conv1 = upsample(img_conv7),upsample(mask_conv7)\n",
    "    img_up_conv1,mask_up_conv1 = tf.concat([img_conv6,img_up_conv1],axis=-1),tf.concat([mask_conv6,mask_up_conv1],axis=-1)\n",
    "    img_up_conv1,mask_up_conv1 = utils.p_conv2d([img_up_conv1,mask_up_conv1],512,3,1,'SAME','up_pconv1')#4\n",
    "    img_up_conv1 = batch_leaky_relu(img_up_conv1)\n",
    "    \n",
    "    img_up_conv2,mask_up_conv2 = upsample(img_up_conv1),upsample(mask_up_conv1)\n",
    "    img_up_conv2,mask_up_conv2 = tf.concat([img_conv5,img_up_conv2],axis=-1),tf.concat([mask_conv5,mask_up_conv2],axis=-1)\n",
    "    img_up_conv2,mask_up_conv2 = utils.p_conv2d([img_up_conv2,mask_up_conv2],512,3,1,'SAME','up_pconv2')#8\n",
    "    img_up_conv2 = batch_leaky_relu(img_up_conv2)\n",
    "    \n",
    "    img_up_conv3,mask_up_conv3 = upsample(img_up_conv2),upsample(mask_up_conv2)\n",
    "    img_up_conv3,mask_up_conv3 = tf.concat([img_conv4,img_up_conv3],axis=-1),tf.concat([mask_conv4,mask_up_conv3],axis=-1)\n",
    "    img_up_conv3,mask_up_conv3 = utils.p_conv2d([img_up_conv3,mask_up_conv3],512,3,1,'SAME','up_pconv3')#16\n",
    "    img_up_conv3 = batch_leaky_relu(img_up_conv3)\n",
    "    \n",
    "    img_up_conv4,mask_up_conv4 = upsample(img_up_conv3),upsample(mask_up_conv3)\n",
    "    img_up_conv4,mask_up_conv4 = tf.concat([img_conv3,img_up_conv4],axis=-1),tf.concat([mask_conv3,mask_up_conv4],axis=-1)\n",
    "    img_up_conv4,mask_up_conv4 = utils.p_conv2d([img_up_conv4,mask_up_conv4],256,3,1,'SAME','up_pconv4')#32\n",
    "    img_up_conv4 = batch_leaky_relu(img_up_conv4)\n",
    "    \n",
    "    img_up_conv5,mask_up_conv5 = upsample(img_up_conv4),upsample(mask_up_conv4)\n",
    "    img_up_conv5,mask_up_conv5 = tf.concat([img_conv2,img_up_conv5],axis=-1),tf.concat([mask_conv2,mask_up_conv5],axis=-1)\n",
    "    img_up_conv5,mask_up_conv5 = utils.p_conv2d([img_up_conv5,mask_up_conv5],128,3,1,'SAME','up_pconv5')#64\n",
    "    img_up_conv5 = batch_leaky_relu(img_up_conv5)\n",
    "    \n",
    "    img_up_conv6,mask_up_conv6 = upsample(img_up_conv5),upsample(mask_up_conv5)\n",
    "    img_up_conv6,mask_up_conv6 = tf.concat([img_conv1,img_up_conv6],axis=-1),tf.concat([mask_conv1,mask_up_conv6],axis=-1)\n",
    "    img_up_conv6,mask_up_conv6 = utils.p_conv2d([img_up_conv6,mask_up_conv6],64,3,1,'SAME','up_pconv4')#128\n",
    "    img_up_conv6 = batch_leaky_relu(img_up_conv6)\n",
    "    \n",
    "    img_recovery,mask_comp = upsample(img_up_conv6),upsample(mask_up_conv6)\n",
    "    img_recovery,mask_comp = tf.concat([img,img_recovery],axis=-1),tf.concat([mask,mask_comp],axis=-1)\n",
    "    img_recovery,mask_comp = utils.p_conv2d([mg_recovery,mask_comp],3,3,1,'SAME','up_pconv4')#128\n",
    "    \n",
    "    return img_recovery,mask_comp"
   ]
  },
  {
   "cell_type": "code",
   "execution_count": null,
   "metadata": {},
   "outputs": [],
   "source": [
    "\n",
    "img = tf.placeholder(tf.float32,[None,256,256,3])\n",
    "mask = tf.placeholder(tf.float32,[None,256,256,3])\n",
    "\n",
    "img_recovery,mask_comp = build_recovery(img,mask)"
   ]
  }
 ],
 "metadata": {
  "kernelspec": {
   "display_name": "Python 3",
   "language": "python",
   "name": "python3"
  },
  "language_info": {
   "codemirror_mode": {
    "name": "ipython",
    "version": 3
   },
   "file_extension": ".py",
   "mimetype": "text/x-python",
   "name": "python",
   "nbconvert_exporter": "python",
   "pygments_lexer": "ipython3",
   "version": "3.5.2"
  }
 },
 "nbformat": 4,
 "nbformat_minor": 2
}
